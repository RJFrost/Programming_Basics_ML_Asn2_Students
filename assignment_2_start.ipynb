{
 "cells": [
  {
   "cell_type": "code",
   "execution_count": 9,
   "metadata": {},
   "outputs": [],
   "source": [
    "import numpy as np\n",
    "from collections.abc import MutableSequence\n",
    "import pandas as pd\n",
    "from abc import ABC, abstractmethod\n",
    "import statistics\n",
    "from statistics import stdev, mean\n",
    "import math"
   ]
  },
  {
   "cell_type": "markdown",
   "metadata": {},
   "source": [
    "# Assignment #2 - With Bonus Stats!!\n",
    "\n",
    "## Overview\n",
    "\n",
    "The end goal for this is to create a special data structure that will be a list of numbers plus some extra math stuff, as well as the code to support using and testing everything. Each of these lists, here called a calculationList, will have two main parts - a list of numbers and a threshold value. Each type of object will work differently depending on its type, but the basic logic is the same. The threshold value is a limit for whatever type of calculation the list belongs to, so for a stdList, the threshold applies to the standard deviation, for a meanList, the threshold applies to the mean, etc. The calculation list should have a prune() method that will start removing values from the list until the relevant value is below the threshold. Each type of calculation list will have a different way of figuring out what to remove, as we want to remove the most \"important\" values first - i.e. if the standard deviation is greater than the threshold, and we have a value that is 3 standard deviations away from the mean and another that is 10 standard deviations away from the mean, we want to remove the second value first as it will be the most impactful. \n",
    "\n",
    "<b>Note: please let me know if the premise isn't clear. You should have to sort out some ambiguities as you develop, but the goal should be clear.</b>\n",
    "\n",
    "### Classes to Create\n",
    "\n",
    "A caclulationList class that is made up of a list of float numbers as well as a few additions. This class will inherit from two things - the mutable sequence class and the ABC class. The mutable sequence class will allow us to use the list methods, and the ABC class will allow us to use the abstract methods.\n",
    "\n",
    "The calculation list will be a base class that will not be implemented directly. You will need to create some subclasses that then inherit from the calculationList class. These subclasses will be the following:\n",
    "<ul>\n",
    "<li> stdList - this will be a calculationList that will prune values based on the standard deviation of the list. </li>\n",
    "<li> meanList - this will be a calculationList that will prune values based on the mean of the list. </li>\n",
    "<li> sumList - this will be a calculationList that will prune values based on the sum of the list. </li>\n",
    "</ul>\n",
    "\n",
    "Each of these classes should only add what they need to make their unique functionality work, the things that are common to all of them should be in the calculationList class. The top level calcList class is similar to the example listBasedSet class here: https://python.readthedocs.io/en/latest/library/collections.abc.html The other classes should be children of that class, each adding their own unique parts. One note, there may be erroneous values in the input data, so there should be some error checking to deal with broken inputs - <b>if a row has erroneous data, that row should be skipped entirely. </b>\n",
    "\n",
    "#### Example Results\n",
    "\n",
    "Here are a few screenshots of the processing logic of the calculation lists:\n",
    "\n",
    "![Calculation List Example](example_results.png \"Calculation List Example\")\n",
    "\n",
    "We can also look at the inputs and outputs of the calculation lists to see some of the details:\n",
    "\n",
    "![Input and Output Example](input_output.png \"Input and Output Example\")\n",
    "\n",
    "Please check with me if the idea and the goal is not clear. \n",
    "\n",
    "## Deliverables\n",
    "\n",
    "For this assignment, please submit the following:\n",
    "<ul>\n",
    "<li> The notebook file containing your code. </li>\n",
    "<li> The CSV output file, <b>generated from a test file that I'll post before the due date.</b> This file will be in the same format as the test data, but the values will be different. </li>\n",
    "</ul>\n",
    "\n",
    "## Grading\n",
    "\n",
    "The grading for this will be broken out as follows, and will learn heavily on things working correctly. \n",
    "<ul>\n",
    "<li> 75% - Functionality. If yours works, this is the baseline. If it fails, I may decrease this, depending on what I can visually spot in code. </li>\n",
    "<li> 25% - Code clarity and formatting. </li>\n",
    "</ul>\n",
    "\n",
    "### Notes and Hints\n",
    "\n",
    "I will put any update notes, responses to common questions, and relevant hints in a list in the README file. Please don't edit that file, as that will let you pull it to get new stuff without conflict. "
   ]
  },
  {
   "cell_type": "code",
   "execution_count": 11,
   "metadata": {},
   "outputs": [],
   "source": [
    "class calcList(MutableSequence, ABC):\n",
    "    def __init__(self, name, threshold, iterable, trim=3):\n",
    "        self._name = name\n",
    "        self._threshold = threshold\n",
    "        self._trim = trim\n",
    "        self.elements = list(iterable)\n",
    "\n",
    "    def __getitem__(self, index):\n",
    "        return self.elements[index]\n",
    "\n",
    "    def __setitem__(self, index, value):\n",
    "        self.elements[index] = value\n",
    "\n",
    "    def __delitem__(self, index):\n",
    "        del self.elements[index]\n",
    "\n",
    "    def __len__(self):\n",
    "        return len(self.elements)\n",
    "\n",
    "    def insert(self, index, value):\n",
    "        self.elements.insert(index, value)\n",
    "\n",
    "    def csv_output(self):\n",
    "        return f\"{self._name},{len(self)},{self._threshold},{self.value()}\"\n",
    "\n",
    "    @abstractmethod\n",
    "    def value(self):\n",
    "        pass\n",
    "\n",
    "    @abstractmethod\n",
    "    def prune(self):\n",
    "        pass\n",
    "\n",
    "    @abstractmethod\n",
    "    def isPruned(self):\n",
    "        pass\n",
    "\n",
    "    @abstractmethod\n",
    "    def returnType(self):\n",
    "        pass\n",
    "\n",
    "    def setThreshold(self, threshold):\n",
    "        self._threshold = threshold\n",
    "\n",
    "    def getThreshold(self):\n",
    "        return self._threshold"
   ]
  },
  {
   "cell_type": "code",
   "execution_count": 36,
   "metadata": {},
   "outputs": [],
   "source": [
    "class stdList(calcList):    \n",
    "    \n",
    "    def value(self):\n",
    "        if len(self.elements) > 1:\n",
    "            return np.std(self.elements)\n",
    "        else:\n",
    "            return 0\n",
    "\n",
    "    def prune(self):\n",
    "        while self.value() > self._threshold:\n",
    "            mean_val = mean(self.elements)\n",
    "            max_deviation = max(self.elements, key=lambda x: abs(x - mean_val))\n",
    "            self.elements.remove(max_deviation)\n",
    "\n",
    "    def isPruned(self):\n",
    "        return self.value() <= self._threshold\n",
    "\n",
    "    def returnType(self):\n",
    "        return 'stdList'\n",
    "\n",
    "    def __str__(self):\n",
    "        return f\"{self._name} - Std. Dev: {self.value()} (Thresh: {self._threshold}) {self.elements}\""
   ]
  },
  {
   "cell_type": "code",
   "execution_count": 37,
   "metadata": {},
   "outputs": [],
   "source": [
    "class meanList(calcList):\n",
    "        \n",
    "    def value(self):\n",
    "        if not self.elements:\n",
    "            return 0  \n",
    "        else:\n",
    "            return mean(self.elements)\n",
    "\n",
    "    def prune(self):\n",
    "        \n",
    "        while self.value() > self._threshold:\n",
    "\n",
    "            elements_to_remove = int(len(self.elements) * 0.1) \n",
    "\n",
    "            if elements_to_remove == 0:\n",
    "                elements_to_remove = 1  \n",
    "            \n",
    "            for x in range(elements_to_remove):\n",
    "                self.elements.remove(max(self.elements))\n",
    "\n",
    "    def isPruned(self):\n",
    "        return self.value() <= self._threshold\n",
    "\n",
    "    def returnType(self):\n",
    "        return 'meanList'\n",
    "\n",
    "    def __str__(self):\n",
    "        return f\"{self._name} - Mean: {self.value()} (Thresh: {self._threshold}) {self.elements}\""
   ]
  },
  {
   "cell_type": "code",
   "execution_count": 38,
   "metadata": {},
   "outputs": [],
   "source": [
    "class sumList(calcList):\n",
    "    def value(self):\n",
    "        return sum(self.elements)\n",
    "\n",
    "    def prune(self):\n",
    "        while len(self.elements) > 1 and self.value() > self._threshold + 1e-10:\n",
    "            self.remove_element()\n",
    "        if len(self.elements) == 1 and self.value() > self._threshold + 1e-10:\n",
    "            pass\n",
    "\n",
    "    def isPruned(self):\n",
    "        return self.value() <= self._threshold\n",
    "\n",
    "    def returnType(self):\n",
    "        return 'sumList'\n",
    "    \n",
    "    def __str__(self):\n",
    "        return f\"{self._name} - Sum: {self.value()} (Thresh: {self._threshold}) {self.elements}\"\n",
    "    \n",
    "    def remove_element(self):\n",
    "        idx_to_remove = self.elements.index(max(self.elements))\n",
    "        del self.elements[idx_to_remove]"
   ]
  },
  {
   "cell_type": "markdown",
   "metadata": {},
   "source": [
    "### Simple Unit Tests\n",
    "\n",
    "These are some simple tests that you can use to check, if you want. Please feel free to change, remove, or add to these as you see fit."
   ]
  },
  {
   "cell_type": "code",
   "execution_count": 39,
   "metadata": {},
   "outputs": [
    {
     "name": "stdout",
     "output_type": "stream",
     "text": [
      "test - Std. Dev: 2.8722813232690143 (Thresh: 2) [1, 2, 3, 4, 5, 6, 7, 8, 9, 10]\n",
      "test - Std. Dev: 2.0 (Thresh: 2) [4, 5, 6, 7, 8, 9, 10]\n"
     ]
    }
   ],
   "source": [
    "calc = stdList(\"test\", 2, [1,2,3,4,5,6,7,8,9,10])\n",
    "print(calc)\n",
    "calc.prune()\n",
    "print(calc)"
   ]
  },
  {
   "cell_type": "code",
   "execution_count": 41,
   "metadata": {},
   "outputs": [
    {
     "name": "stdout",
     "output_type": "stream",
     "text": [
      "test2 - Mean: 5.5 (Thresh: 4) [1, 2, 3, 4, 5, 6, 7, 8, 9, 10]\n",
      "test2 - Mean: 4 (Thresh: 4) [1, 2, 3, 4, 5, 6, 7]\n"
     ]
    }
   ],
   "source": [
    "calc2 = meanList(\"test2\", 4, [1,2,3,4,5,6,7,8,9,10])\n",
    "print(calc2)\n",
    "calc2.prune()\n",
    "print(calc2)"
   ]
  },
  {
   "cell_type": "code",
   "execution_count": 40,
   "metadata": {},
   "outputs": [
    {
     "name": "stdout",
     "output_type": "stream",
     "text": [
      "test3 - Sum: 55 (Thresh: 45) [1, 2, 3, 4, 5, 6, 7, 8, 9, 10]\n",
      "test3 - Sum: 45 (Thresh: 45) [1, 2, 3, 4, 5, 6, 7, 8, 9]\n"
     ]
    }
   ],
   "source": [
    "calc3 = sumList(\"test3\", 45, [1,2,3,4,5,6,7,8,9,10])\n",
    "print(calc3)\n",
    "calc3.prune()\n",
    "print(calc3)"
   ]
  },
  {
   "cell_type": "markdown",
   "metadata": {},
   "source": [
    "### Load Data and Test\n",
    "\n",
    "The functions below are a simple test function for your code, it'll take in an input and an output and score the two. In your code, you'll have half of the inputs here, the expected results, and will need to write the rest of the code to generate your results and input them to run the test. \n",
    "\n",
    "This function can likely be wrapped in another, one that calls your code to generate that input to check against. This isn't required, but will likely make things easier to call and test repeatedly. You'd have to do everything required to get the \"response\" argument, which is the CSV file of your answers. "
   ]
  },
  {
   "cell_type": "code",
   "execution_count": 42,
   "metadata": {},
   "outputs": [],
   "source": [
    "def testHarness(response, expected, response_col=\"Value\", expected_col=\"Value\", match_thresh=.03, exp_name=\"Name\", resp_name=\"Name\"):\n",
    "    '''Runs a test of the response file against the expected file. Returns a tuple of the number of correct and incorrect responses.'''\n",
    "    resp = pd.read_csv(response)\n",
    "    exp = pd.read_csv(expected)\n",
    "    \n",
    "    correct = 0\n",
    "    incorrect = 0\n",
    "    \n",
    "    i = 0\n",
    "    while i < len(resp):\n",
    "        exp_val = exp.iloc[i][expected_col]\n",
    "        resp_val = resp.iloc[i][response_col]\n",
    "        \n",
    "        if toleranceMatch(exp_val, resp_val, match_thresh) and (exp.iloc[i][exp_name] == resp.iloc[i][resp_name]):\n",
    "            correct += 1\n",
    "        else:\n",
    "            incorrect += 1\n",
    "        i += 1\n",
    "    \n",
    "    return (correct, incorrect)\n",
    "    \n",
    "\n",
    "def toleranceMatch(val1, val2, percent_tolerance):\n",
    "    '''Returns True if val1 and val2 are within percent_tolerance of each other, False otherwise.'''\n",
    "    if val1 == val2:\n",
    "        return True\n",
    "    else:\n",
    "        if val1 == 0:\n",
    "            if val2 == 0:\n",
    "                return True\n",
    "            else:\n",
    "                return False\n",
    "        if (abs(val1 - val2) / val1) <= percent_tolerance:\n",
    "            return True\n",
    "        else:\n",
    "            return False"
   ]
  },
  {
   "cell_type": "code",
   "execution_count": 43,
   "metadata": {},
   "outputs": [
    {
     "name": "stdout",
     "output_type": "stream",
     "text": [
      "(1000, 0)\n"
     ]
    }
   ],
   "source": [
    "test = testHarness(\"output.csv\", \"output.csv\")\n",
    "print(test)"
   ]
  },
  {
   "cell_type": "code",
   "execution_count": null,
   "metadata": {},
   "outputs": [],
   "source": [
    "#Couldnt figure this test part out for the life of me. "
   ]
  }
 ],
 "metadata": {
  "kernelspec": {
   "display_name": "ml_2",
   "language": "python",
   "name": "python3"
  },
  "language_info": {
   "codemirror_mode": {
    "name": "ipython",
    "version": 3
   },
   "file_extension": ".py",
   "mimetype": "text/x-python",
   "name": "python",
   "nbconvert_exporter": "python",
   "pygments_lexer": "ipython3",
   "version": "3.11.4"
  },
  "orig_nbformat": 4
 },
 "nbformat": 4,
 "nbformat_minor": 2
}
